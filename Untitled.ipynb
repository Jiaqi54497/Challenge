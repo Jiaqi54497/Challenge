{
 "cells": [
  {
   "cell_type": "code",
   "execution_count": 2,
   "id": "f6a9d7f8-f73f-49a6-a6d4-3e8a78992e4d",
   "metadata": {},
   "outputs": [],
   "source": [
    "import gzip\n",
    "import shutil\n",
    "import numpy as np\n",
    "import random\n",
    "import pandas as pd"
   ]
  },
  {
   "cell_type": "code",
   "execution_count": 5,
   "id": "8fc60d19-96c5-4f0f-b44d-5e20284e0f7a",
   "metadata": {},
   "outputs": [
    {
     "name": "stdout",
     "output_type": "stream",
     "text": [
      "1\t91514\t91515\trs376723915_A_C_0.426717\t0\t1\t0\t2\t0\t0\t0\t1\t1\t2\t2\t1\t0\t1\t2\t1\t1\t1\t0\t0\t0\t0\t2\t1\t1\t1\t1\t0\t0\t1\t1\n"
     ]
    }
   ],
   "source": [
    "input_file = gzip.open('CHALLENGE_DATA/genotypes.txt.gz','r')\n",
    "\n",
    "try:\n",
    "    input_file.seek(0)\n",
    "    partial = input_file.read(100)\n",
    "    print(partial.decode(\"utf-8\"))\n",
    "finally:\n",
    "    input_file.close()"
   ]
  },
  {
   "cell_type": "code",
   "execution_count": 3,
   "id": "6f69830c-89e8-45a3-806d-1ab263ebaf52",
   "metadata": {},
   "outputs": [],
   "source": [
    "input_file = gzip.open('CHALLENGE_DATA/genotypes.txt.gz','r')\n",
    "r_file = input_file.read()\n",
    "data_l = r_file.decode(\"utf-8\")"
   ]
  },
  {
   "cell_type": "code",
   "execution_count": 8,
   "id": "6d3394ad-9fca-4b4e-bb7f-1315878a9cbe",
   "metadata": {},
   "outputs": [],
   "source": [
    "data_ll=data_l.split(\"\\n\")"
   ]
  },
  {
   "cell_type": "code",
   "execution_count": 9,
   "id": "e5eef849-182f-4be2-806f-1be6bd80a5af",
   "metadata": {},
   "outputs": [
    {
     "data": {
      "text/plain": [
       "20391"
      ]
     },
     "execution_count": 9,
     "metadata": {},
     "output_type": "execute_result"
    }
   ],
   "source": [
    "len(data_ll)"
   ]
  },
  {
   "cell_type": "code",
   "execution_count": 18,
   "id": "4598a6a7-bc45-4c8c-83ae-21be983ea49e",
   "metadata": {},
   "outputs": [
    {
     "data": {
      "text/plain": [
       "''"
      ]
     },
     "execution_count": 18,
     "metadata": {},
     "output_type": "execute_result"
    }
   ],
   "source": [
    "data_ll[-1]"
   ]
  },
  {
   "cell_type": "code",
   "execution_count": 15,
   "id": "e53e4d41-b241-49a8-9783-712f3db54cc1",
   "metadata": {},
   "outputs": [],
   "source": [
    "l1=data_ll[-1].split('\\t')"
   ]
  },
  {
   "cell_type": "code",
   "execution_count": 16,
   "id": "ab13308d-37a9-45b9-a73f-8bb5913c5525",
   "metadata": {},
   "outputs": [
    {
     "data": {
      "text/plain": [
       "1"
      ]
     },
     "execution_count": 16,
     "metadata": {},
     "output_type": "execute_result"
    }
   ],
   "source": [
    "len(l1)"
   ]
  },
  {
   "cell_type": "code",
   "execution_count": 17,
   "id": "9c55bc7e-49c2-4336-9ecd-c08c53d0c50d",
   "metadata": {},
   "outputs": [
    {
     "data": {
      "text/plain": [
       "['']"
      ]
     },
     "execution_count": 17,
     "metadata": {},
     "output_type": "execute_result"
    }
   ],
   "source": [
    "l1"
   ]
  },
  {
   "cell_type": "code",
   "execution_count": 12,
   "id": "1befa6ba-0eb4-446b-bcaa-9ba584be4a07",
   "metadata": {},
   "outputs": [
    {
     "data": {
      "text/plain": [
       "61231171"
      ]
     },
     "execution_count": 12,
     "metadata": {},
     "output_type": "execute_result"
    }
   ],
   "source": [
    "len(data_ll)"
   ]
  },
  {
   "cell_type": "code",
   "execution_count": 14,
   "id": "d9e510f2-2ddb-4d1a-82f4-88e2a52191f7",
   "metadata": {},
   "outputs": [
    {
     "data": {
      "text/plain": [
       "20389"
      ]
     },
     "execution_count": 14,
     "metadata": {},
     "output_type": "execute_result"
    }
   ],
   "source": [
    "20390*3004-61231171"
   ]
  },
  {
   "cell_type": "code",
   "execution_count": 13,
   "id": "e7a582a0-6119-4054-a3d0-11eaa5ef1773",
   "metadata": {},
   "outputs": [],
   "source": [
    "f1 = open(\"CHALLENGE_DATA/genotype_sample_ids.list\", \"r\")\n",
    "f1_c = f1.read()\n",
    "# print(f1_c)\n",
    "\n",
    "f1.close()"
   ]
  },
  {
   "cell_type": "code",
   "execution_count": 12,
   "id": "9cc0c4dc-f90c-4b09-b1f3-a7131f35e733",
   "metadata": {},
   "outputs": [],
   "source": [
    "xx = np.load('train_x.npy')"
   ]
  },
  {
   "cell_type": "code",
   "execution_count": 3,
   "id": "672357de-fe89-41c2-9405-ee9f8844af96",
   "metadata": {},
   "outputs": [],
   "source": [
    "idxs = [i for i in range(10)]"
   ]
  },
  {
   "cell_type": "code",
   "execution_count": 10,
   "id": "5a3bb535-52f7-4919-a4e8-67c148629ee6",
   "metadata": {},
   "outputs": [],
   "source": [
    "random.shuffle(idxs)"
   ]
  },
  {
   "cell_type": "code",
   "execution_count": 11,
   "id": "8d6459cc-a59c-4832-8c59-7cc233524b38",
   "metadata": {},
   "outputs": [
    {
     "data": {
      "text/plain": [
       "[8, 7, 4, 3, 1, 0, 9, 2, 5, 6]"
      ]
     },
     "execution_count": 11,
     "metadata": {},
     "output_type": "execute_result"
    }
   ],
   "source": [
    "idxs"
   ]
  },
  {
   "cell_type": "code",
   "execution_count": 23,
   "id": "174a04ef-703e-4b32-8e46-6dae0f45f6a4",
   "metadata": {},
   "outputs": [],
   "source": [
    "data = pd.read_csv(\"../TenSEAL_Learn/framingham.csv\")"
   ]
  },
  {
   "cell_type": "code",
   "execution_count": 24,
   "id": "be899a91-3e37-4f09-892d-66b2eef87c7b",
   "metadata": {},
   "outputs": [],
   "source": [
    "data = data.dropna()"
   ]
  },
  {
   "cell_type": "code",
   "execution_count": 27,
   "id": "97fd0561-ea8a-466e-a173-03fb2693432a",
   "metadata": {},
   "outputs": [],
   "source": [
    "data = data.drop(columns=[\"education\", \"currentSmoker\", \"BPMeds\", \"diabetes\", \"diaBP\", \"BMI\"])\n",
    "grouped = data.groupby('TenYearCHD')"
   ]
  },
  {
   "cell_type": "code",
   "execution_count": 30,
   "id": "252e6164-637d-45a4-94cf-188d9a9e7561",
   "metadata": {},
   "outputs": [],
   "source": [
    "    data = grouped.apply(lambda x: x.sample(grouped.size().min(), random_state=73).reset_index(drop=True))"
   ]
  },
  {
   "cell_type": "code",
   "execution_count": 31,
   "id": "bc885fde-73d7-45f4-8bfc-1ea94bf694bb",
   "metadata": {},
   "outputs": [
    {
     "data": {
      "text/html": [
       "<div>\n",
       "<style scoped>\n",
       "    .dataframe tbody tr th:only-of-type {\n",
       "        vertical-align: middle;\n",
       "    }\n",
       "\n",
       "    .dataframe tbody tr th {\n",
       "        vertical-align: top;\n",
       "    }\n",
       "\n",
       "    .dataframe thead th {\n",
       "        text-align: right;\n",
       "    }\n",
       "</style>\n",
       "<table border=\"1\" class=\"dataframe\">\n",
       "  <thead>\n",
       "    <tr style=\"text-align: right;\">\n",
       "      <th></th>\n",
       "      <th></th>\n",
       "      <th>male</th>\n",
       "      <th>age</th>\n",
       "      <th>cigsPerDay</th>\n",
       "      <th>prevalentStroke</th>\n",
       "      <th>prevalentHyp</th>\n",
       "      <th>totChol</th>\n",
       "      <th>sysBP</th>\n",
       "      <th>heartRate</th>\n",
       "      <th>glucose</th>\n",
       "      <th>TenYearCHD</th>\n",
       "    </tr>\n",
       "    <tr>\n",
       "      <th>TenYearCHD</th>\n",
       "      <th></th>\n",
       "      <th></th>\n",
       "      <th></th>\n",
       "      <th></th>\n",
       "      <th></th>\n",
       "      <th></th>\n",
       "      <th></th>\n",
       "      <th></th>\n",
       "      <th></th>\n",
       "      <th></th>\n",
       "      <th></th>\n",
       "    </tr>\n",
       "  </thead>\n",
       "  <tbody>\n",
       "    <tr>\n",
       "      <th rowspan=\"5\" valign=\"top\">0</th>\n",
       "      <th>0</th>\n",
       "      <td>1</td>\n",
       "      <td>35</td>\n",
       "      <td>20.0</td>\n",
       "      <td>0</td>\n",
       "      <td>0</td>\n",
       "      <td>223.0</td>\n",
       "      <td>128.0</td>\n",
       "      <td>80.0</td>\n",
       "      <td>67.0</td>\n",
       "      <td>0</td>\n",
       "    </tr>\n",
       "    <tr>\n",
       "      <th>1</th>\n",
       "      <td>1</td>\n",
       "      <td>43</td>\n",
       "      <td>0.0</td>\n",
       "      <td>0</td>\n",
       "      <td>0</td>\n",
       "      <td>200.0</td>\n",
       "      <td>133.0</td>\n",
       "      <td>55.0</td>\n",
       "      <td>71.0</td>\n",
       "      <td>0</td>\n",
       "    </tr>\n",
       "    <tr>\n",
       "      <th>2</th>\n",
       "      <td>1</td>\n",
       "      <td>46</td>\n",
       "      <td>0.0</td>\n",
       "      <td>0</td>\n",
       "      <td>1</td>\n",
       "      <td>185.0</td>\n",
       "      <td>121.0</td>\n",
       "      <td>80.0</td>\n",
       "      <td>97.0</td>\n",
       "      <td>0</td>\n",
       "    </tr>\n",
       "    <tr>\n",
       "      <th>3</th>\n",
       "      <td>0</td>\n",
       "      <td>63</td>\n",
       "      <td>0.0</td>\n",
       "      <td>0</td>\n",
       "      <td>1</td>\n",
       "      <td>281.0</td>\n",
       "      <td>135.0</td>\n",
       "      <td>63.0</td>\n",
       "      <td>68.0</td>\n",
       "      <td>0</td>\n",
       "    </tr>\n",
       "    <tr>\n",
       "      <th>4</th>\n",
       "      <td>0</td>\n",
       "      <td>59</td>\n",
       "      <td>0.0</td>\n",
       "      <td>0</td>\n",
       "      <td>0</td>\n",
       "      <td>292.0</td>\n",
       "      <td>114.0</td>\n",
       "      <td>68.0</td>\n",
       "      <td>72.0</td>\n",
       "      <td>0</td>\n",
       "    </tr>\n",
       "    <tr>\n",
       "      <th>...</th>\n",
       "      <th>...</th>\n",
       "      <td>...</td>\n",
       "      <td>...</td>\n",
       "      <td>...</td>\n",
       "      <td>...</td>\n",
       "      <td>...</td>\n",
       "      <td>...</td>\n",
       "      <td>...</td>\n",
       "      <td>...</td>\n",
       "      <td>...</td>\n",
       "      <td>...</td>\n",
       "    </tr>\n",
       "    <tr>\n",
       "      <th rowspan=\"5\" valign=\"top\">1</th>\n",
       "      <th>552</th>\n",
       "      <td>1</td>\n",
       "      <td>65</td>\n",
       "      <td>0.0</td>\n",
       "      <td>1</td>\n",
       "      <td>1</td>\n",
       "      <td>266.0</td>\n",
       "      <td>140.0</td>\n",
       "      <td>80.0</td>\n",
       "      <td>77.0</td>\n",
       "      <td>1</td>\n",
       "    </tr>\n",
       "    <tr>\n",
       "      <th>553</th>\n",
       "      <td>1</td>\n",
       "      <td>52</td>\n",
       "      <td>0.0</td>\n",
       "      <td>1</td>\n",
       "      <td>0</td>\n",
       "      <td>202.0</td>\n",
       "      <td>136.0</td>\n",
       "      <td>83.0</td>\n",
       "      <td>67.0</td>\n",
       "      <td>1</td>\n",
       "    </tr>\n",
       "    <tr>\n",
       "      <th>554</th>\n",
       "      <td>0</td>\n",
       "      <td>57</td>\n",
       "      <td>0.0</td>\n",
       "      <td>0</td>\n",
       "      <td>1</td>\n",
       "      <td>432.0</td>\n",
       "      <td>153.0</td>\n",
       "      <td>98.0</td>\n",
       "      <td>75.0</td>\n",
       "      <td>1</td>\n",
       "    </tr>\n",
       "    <tr>\n",
       "      <th>555</th>\n",
       "      <td>1</td>\n",
       "      <td>45</td>\n",
       "      <td>20.0</td>\n",
       "      <td>0</td>\n",
       "      <td>0</td>\n",
       "      <td>264.0</td>\n",
       "      <td>118.5</td>\n",
       "      <td>75.0</td>\n",
       "      <td>90.0</td>\n",
       "      <td>1</td>\n",
       "    </tr>\n",
       "    <tr>\n",
       "      <th>556</th>\n",
       "      <td>1</td>\n",
       "      <td>60</td>\n",
       "      <td>20.0</td>\n",
       "      <td>0</td>\n",
       "      <td>1</td>\n",
       "      <td>269.0</td>\n",
       "      <td>170.0</td>\n",
       "      <td>60.0</td>\n",
       "      <td>83.0</td>\n",
       "      <td>1</td>\n",
       "    </tr>\n",
       "  </tbody>\n",
       "</table>\n",
       "<p>1114 rows × 10 columns</p>\n",
       "</div>"
      ],
      "text/plain": [
       "                male  age  cigsPerDay  prevalentStroke  prevalentHyp  totChol  \\\n",
       "TenYearCHD                                                                      \n",
       "0          0       1   35        20.0                0             0    223.0   \n",
       "           1       1   43         0.0                0             0    200.0   \n",
       "           2       1   46         0.0                0             1    185.0   \n",
       "           3       0   63         0.0                0             1    281.0   \n",
       "           4       0   59         0.0                0             0    292.0   \n",
       "...              ...  ...         ...              ...           ...      ...   \n",
       "1          552     1   65         0.0                1             1    266.0   \n",
       "           553     1   52         0.0                1             0    202.0   \n",
       "           554     0   57         0.0                0             1    432.0   \n",
       "           555     1   45        20.0                0             0    264.0   \n",
       "           556     1   60        20.0                0             1    269.0   \n",
       "\n",
       "                sysBP  heartRate  glucose  TenYearCHD  \n",
       "TenYearCHD                                             \n",
       "0          0    128.0       80.0     67.0           0  \n",
       "           1    133.0       55.0     71.0           0  \n",
       "           2    121.0       80.0     97.0           0  \n",
       "           3    135.0       63.0     68.0           0  \n",
       "           4    114.0       68.0     72.0           0  \n",
       "...               ...        ...      ...         ...  \n",
       "1          552  140.0       80.0     77.0           1  \n",
       "           553  136.0       83.0     67.0           1  \n",
       "           554  153.0       98.0     75.0           1  \n",
       "           555  118.5       75.0     90.0           1  \n",
       "           556  170.0       60.0     83.0           1  \n",
       "\n",
       "[1114 rows x 10 columns]"
      ]
     },
     "execution_count": 31,
     "metadata": {},
     "output_type": "execute_result"
    }
   ],
   "source": [
    "data"
   ]
  },
  {
   "cell_type": "code",
   "execution_count": 18,
   "id": "033adaef-2f9e-4dd8-9c61-20f00a340b6f",
   "metadata": {},
   "outputs": [],
   "source": [
    "yy = np.load('train_y.npy')"
   ]
  },
  {
   "cell_type": "code",
   "execution_count": 19,
   "id": "6dd71004-9082-49d9-b019-43c831e264a4",
   "metadata": {},
   "outputs": [
    {
     "data": {
      "text/plain": [
       "array([ 0.02397521, -0.09198061, -0.05866303, ..., -0.0763017 ,\n",
       "       -0.15101802, -0.0601022 ])"
      ]
     },
     "execution_count": 19,
     "metadata": {},
     "output_type": "execute_result"
    }
   ],
   "source": [
    "yy[0]"
   ]
  },
  {
   "cell_type": "code",
   "execution_count": 13,
   "id": "76a17179-ec7e-4600-9d2e-f603ce9dbcb3",
   "metadata": {},
   "outputs": [],
   "source": [
    "yy[0] = (yy[0] - yy[0].mean()) / yy[0].std()"
   ]
  },
  {
   "cell_type": "code",
   "execution_count": 14,
   "id": "c709039c-5d74-4249-b4ae-9caa3dd4894b",
   "metadata": {},
   "outputs": [
    {
     "data": {
      "text/plain": [
       "array([ 0.98037154, -0.51608596, -0.08610897, ..., -0.31374324,\n",
       "       -1.27798805, -0.10468203])"
      ]
     },
     "execution_count": 14,
     "metadata": {},
     "output_type": "execute_result"
    }
   ],
   "source": [
    "yy[0]"
   ]
  },
  {
   "cell_type": "code",
   "execution_count": 20,
   "id": "353e7a7b-5884-415a-be91-2275ff2a34f5",
   "metadata": {},
   "outputs": [],
   "source": [
    "for y in yy:\n",
    "    y = (y-y.mean())/y.std()"
   ]
  },
  {
   "cell_type": "code",
   "execution_count": 21,
   "id": "2b37d509-5193-4a88-b9e0-32fee82ddb4a",
   "metadata": {},
   "outputs": [
    {
     "data": {
      "text/plain": [
       "array([[ 0.02397521, -0.09198061, -0.05866303, ..., -0.0763017 ,\n",
       "        -0.15101802, -0.0601022 ],\n",
       "       [ 0.2772985 , -0.05162873, -0.18412147, ..., -0.65846191,\n",
       "        -0.18874262, -0.05892341],\n",
       "       [-0.77562048, -0.56495348, -0.72443017, ...,  0.40280716,\n",
       "        -0.4976993 , -0.6083261 ],\n",
       "       [ 1.        ,  1.        ,  1.        , ...,  1.        ,\n",
       "         0.        ,  0.        ],\n",
       "       [ 0.        ,  0.        ,  0.        , ...,  0.        ,\n",
       "         0.        ,  0.        ]])"
      ]
     },
     "execution_count": 21,
     "metadata": {},
     "output_type": "execute_result"
    }
   ],
   "source": [
    "yy"
   ]
  },
  {
   "cell_type": "code",
   "execution_count": null,
   "id": "f4938352-56d0-4fd8-ad2e-6e56a0464473",
   "metadata": {},
   "outputs": [],
   "source": []
  }
 ],
 "metadata": {
  "kernelspec": {
   "display_name": "Python 3 (ipykernel)",
   "language": "python",
   "name": "python3"
  },
  "language_info": {
   "codemirror_mode": {
    "name": "ipython",
    "version": 3
   },
   "file_extension": ".py",
   "mimetype": "text/x-python",
   "name": "python",
   "nbconvert_exporter": "python",
   "pygments_lexer": "ipython3",
   "version": "3.9.7"
  }
 },
 "nbformat": 4,
 "nbformat_minor": 5
}
