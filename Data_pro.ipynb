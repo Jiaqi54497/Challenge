{
 "cells": [
  {
   "cell_type": "markdown",
   "id": "e02da8bb-174d-495b-96da-8682c70deb99",
   "metadata": {},
   "source": [
    "Training data preprocessing"
   ]
  },
  {
   "cell_type": "code",
   "execution_count": 1,
   "id": "aeffe410-3965-4c86-991f-82f032b6a41a",
   "metadata": {},
   "outputs": [],
   "source": [
    "import gzip\n",
    "import numpy as np\n",
    "from tqdm import tqdm"
   ]
  },
  {
   "cell_type": "code",
   "execution_count": 57,
   "id": "d7f9283e-52bd-41b4-be06-80a0167ffb59",
   "metadata": {},
   "outputs": [],
   "source": [
    "N_GENE = 20390\n",
    "N_SAMPLE = 3000"
   ]
  },
  {
   "cell_type": "code",
   "execution_count": 31,
   "id": "ab98f8d5-d0a2-45cb-af8e-376ace003c6b",
   "metadata": {},
   "outputs": [],
   "source": [
    "input_file = gzip.open('CHALLENGE_DATA/genotypes.txt.gz','r')\n",
    "r_file = input_file.read()\n",
    "data_l = r_file.decode(\"utf-8\")\n",
    "data_ll=data_l.replace(\"\\n\", \"\\t\").split(\"\\t\")"
   ]
  },
  {
   "cell_type": "code",
   "execution_count": 33,
   "id": "6603d06b-e740-459a-b065-6db5a8c40ce3",
   "metadata": {},
   "outputs": [
    {
     "data": {
      "text/plain": [
       "61251561"
      ]
     },
     "execution_count": 33,
     "metadata": {},
     "output_type": "execute_result"
    }
   ],
   "source": [
    "len(data_ll)"
   ]
  },
  {
   "cell_type": "code",
   "execution_count": 48,
   "id": "4c91e5f2-6898-415d-88c6-2be60fd6c211",
   "metadata": {},
   "outputs": [],
   "source": [
    "data_n = np.array(data_ll)"
   ]
  },
  {
   "cell_type": "code",
   "execution_count": 53,
   "id": "13654ae9-72ba-46c9-aae2-2f3de5a64d7c",
   "metadata": {},
   "outputs": [],
   "source": [
    "data_d = np.delete(data_n, -1)"
   ]
  },
  {
   "cell_type": "code",
   "execution_count": 62,
   "id": "f37f0d0a-f015-4de9-a262-30e1a597ea06",
   "metadata": {},
   "outputs": [],
   "source": [
    "data_n1 = data_d.reshape((N_GENE, N_SAMPLE+4))"
   ]
  },
  {
   "cell_type": "code",
   "execution_count": 64,
   "id": "015d1ed4-067e-4c11-89ff-3d05b5502d84",
   "metadata": {},
   "outputs": [
    {
     "data": {
      "text/plain": [
       "array([['1', '91514', '91515', ..., '2', '0', '1'],\n",
       "       ['1', '546801', '546802', ..., '0', '0', '1'],\n",
       "       ['1', '568708', '568709', ..., '0', '0', '0'],\n",
       "       ...,\n",
       "       ['1', '249182057', '249182058', ..., '0', '1', '0'],\n",
       "       ['1', '249201267', '249201268', ..., '1', '2', '1'],\n",
       "       ['1', '249233055', '249233056', ..., '2', '0', '1']], dtype='<U24')"
      ]
     },
     "execution_count": 64,
     "metadata": {},
     "output_type": "execute_result"
    }
   ],
   "source": [
    "data_n1"
   ]
  },
  {
   "cell_type": "code",
   "execution_count": 72,
   "id": "c318b185-2433-4411-9924-7bc6cb7e6f91",
   "metadata": {},
   "outputs": [],
   "source": [
    "data_x = np.delete(data_n1, range(4), axis=1)"
   ]
  },
  {
   "cell_type": "code",
   "execution_count": 75,
   "id": "19d52d9e-e5fa-44d8-ac99-2807985613df",
   "metadata": {},
   "outputs": [],
   "source": [
    "train_x = data_x.astype('int')"
   ]
  },
  {
   "cell_type": "code",
   "execution_count": 73,
   "id": "96a4eb61-a574-40f8-9a0a-a9ff65f6dd54",
   "metadata": {},
   "outputs": [
    {
     "data": {
      "text/plain": [
       "(20390, 3000)"
      ]
     },
     "execution_count": 73,
     "metadata": {},
     "output_type": "execute_result"
    }
   ],
   "source": [
    "data_x.shape"
   ]
  },
  {
   "cell_type": "code",
   "execution_count": 74,
   "id": "bc44acbe-ea7c-41db-a42b-63436c1a138a",
   "metadata": {},
   "outputs": [
    {
     "data": {
      "text/plain": [
       "array([['0', '1', '0', ..., '2', '0', '1'],\n",
       "       ['0', '0', '0', ..., '0', '0', '1'],\n",
       "       ['1', '0', '2', ..., '0', '0', '0'],\n",
       "       ...,\n",
       "       ['1', '0', '1', ..., '0', '1', '0'],\n",
       "       ['1', '0', '2', ..., '1', '2', '1'],\n",
       "       ['2', '0', '1', ..., '2', '0', '1']], dtype='<U24')"
      ]
     },
     "execution_count": 74,
     "metadata": {},
     "output_type": "execute_result"
    }
   ],
   "source": [
    "data_x"
   ]
  },
  {
   "cell_type": "code",
   "execution_count": 76,
   "id": "bf149f78-d580-4cd8-834d-9732f06f01c5",
   "metadata": {},
   "outputs": [
    {
     "data": {
      "text/plain": [
       "array([[0, 1, 0, ..., 2, 0, 1],\n",
       "       [0, 0, 0, ..., 0, 0, 1],\n",
       "       [1, 0, 2, ..., 0, 0, 0],\n",
       "       ...,\n",
       "       [1, 0, 1, ..., 0, 1, 0],\n",
       "       [1, 0, 2, ..., 1, 2, 1],\n",
       "       [2, 0, 1, ..., 2, 0, 1]])"
      ]
     },
     "execution_count": 76,
     "metadata": {},
     "output_type": "execute_result"
    }
   ],
   "source": [
    "train_x"
   ]
  },
  {
   "cell_type": "code",
   "execution_count": 77,
   "id": "0d8d037d-e324-4034-973f-8f6a61365f1d",
   "metadata": {},
   "outputs": [],
   "source": [
    "np.save('train_x.npy', train_x)"
   ]
  },
  {
   "cell_type": "code",
   "execution_count": null,
   "id": "3f25baac-0029-466a-a11f-a5d70aa871bb",
   "metadata": {},
   "outputs": [],
   "source": [
    "t_data.shape"
   ]
  },
  {
   "cell_type": "code",
   "execution_count": 8,
   "id": "520bc708-ecb6-4985-83fe-63a96a203090",
   "metadata": {},
   "outputs": [],
   "source": [
    "def get_txt(file):\n",
    "    ff = open(file, \"r\")\n",
    "    dd = ff.read()\n",
    "    d_l = dd.replace(\"\\n\", \"\\t\").split(\"\\t\")\n",
    "    return d_l"
   ]
  },
  {
   "cell_type": "code",
   "execution_count": 12,
   "id": "c8c85798-4289-4d31-b9ea-972fb6034332",
   "metadata": {},
   "outputs": [],
   "source": [
    "phe = []\n",
    "for i in range(5):\n",
    "    phe.append(get_txt('CHALLENGE_DATA/phenotypes_'+str(i+1)+'.txt'))"
   ]
  },
  {
   "cell_type": "markdown",
   "id": "7dc87d63-1a82-4f71-96f1-8e3a88079c11",
   "metadata": {},
   "source": [
    "get the index of the genotypes"
   ]
  },
  {
   "cell_type": "code",
   "execution_count": 19,
   "id": "fe0f3397-4706-4cac-b511-e28da7f815cc",
   "metadata": {},
   "outputs": [],
   "source": [
    "index = get_txt('CHALLENGE_DATA/genotype_sample_ids.list')"
   ]
  },
  {
   "cell_type": "markdown",
   "id": "7b8a4fdf-3f7b-49d8-bebe-f11d1e0036d4",
   "metadata": {},
   "source": [
    "Search for index, and sort the phenotypes"
   ]
  },
  {
   "cell_type": "code",
   "execution_count": 39,
   "id": "fa51120c-914e-4dda-9bd7-4e85e02961a0",
   "metadata": {},
   "outputs": [],
   "source": [
    "train_y = np.zeros((len(phe),len(index)-1))\n",
    "\n",
    "for i in range(len(phe)):\n",
    "    for j in range(len(index)-1):\n",
    "        p = phe[i].index(index[j])\n",
    "        # print(p)\n",
    "        train_y[i,j] = phe[i][p+1]"
   ]
  },
  {
   "cell_type": "code",
   "execution_count": 78,
   "id": "0ce12e7e-ce4d-4b76-92fd-610bbeb2b7ad",
   "metadata": {},
   "outputs": [],
   "source": [
    "np.save('train_y.npy', train_y)"
   ]
  },
  {
   "cell_type": "code",
   "execution_count": 45,
   "id": "182708ac-9b66-461f-8340-50c8c3cad384",
   "metadata": {},
   "outputs": [
    {
     "data": {
      "text/plain": [
       "array([0., 0., 0., 0., 0., 1., 1., 1., 0., 0.])"
      ]
     },
     "execution_count": 45,
     "metadata": {},
     "output_type": "execute_result"
    }
   ],
   "source": [
    "train_y[4][:10]"
   ]
  },
  {
   "cell_type": "code",
   "execution_count": 24,
   "id": "fd380cbf-f547-408b-beb6-93b59e87e662",
   "metadata": {},
   "outputs": [],
   "source": [
    "p=phe[0].index(index[0])"
   ]
  },
  {
   "cell_type": "code",
   "execution_count": 25,
   "id": "3c26a877-b8cf-4215-9d7b-2d8a9878d5a4",
   "metadata": {},
   "outputs": [
    {
     "data": {
      "text/plain": [
       "2306"
      ]
     },
     "execution_count": 25,
     "metadata": {},
     "output_type": "execute_result"
    }
   ],
   "source": [
    "p"
   ]
  },
  {
   "cell_type": "code",
   "execution_count": 27,
   "id": "1c31efd9-5a5c-4889-b70f-7f7a17c4ea74",
   "metadata": {},
   "outputs": [
    {
     "data": {
      "text/plain": [
       "'0.0239752136'"
      ]
     },
     "execution_count": 27,
     "metadata": {},
     "output_type": "execute_result"
    }
   ],
   "source": [
    "phe[0][2307]"
   ]
  },
  {
   "cell_type": "code",
   "execution_count": null,
   "id": "d0f2ad7f-a952-4c48-959d-3b9eca524a6b",
   "metadata": {},
   "outputs": [],
   "source": []
  }
 ],
 "metadata": {
  "kernelspec": {
   "display_name": "Python 3 (ipykernel)",
   "language": "python",
   "name": "python3"
  },
  "language_info": {
   "codemirror_mode": {
    "name": "ipython",
    "version": 3
   },
   "file_extension": ".py",
   "mimetype": "text/x-python",
   "name": "python",
   "nbconvert_exporter": "python",
   "pygments_lexer": "ipython3",
   "version": "3.9.7"
  }
 },
 "nbformat": 4,
 "nbformat_minor": 5
}
